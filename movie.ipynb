{
 "cells": [
  {
   "cell_type": "code",
   "execution_count": 4,
   "id": "88446c85-8b6b-48f9-8a3f-c395ec26dbe8",
   "metadata": {},
   "outputs": [],
   "source": [
    "import pandas as pd\n",
    "import re"
   ]
  },
  {
   "cell_type": "code",
   "execution_count": 5,
   "id": "2091e810-fbd1-4158-8941-2964850d9d8f",
   "metadata": {},
   "outputs": [],
   "source": [
    "df = pd.read_csv(\"C:\\\\projects\\\\movie\\\\movie.csv\")"
   ]
  },
  {
   "cell_type": "code",
   "execution_count": 6,
   "id": "bb0fad10-24a0-43e7-9dba-7193e355278a",
   "metadata": {},
   "outputs": [
    {
     "data": {
      "text/plain": [
       "'I grew up (b. 1965) watching and loving the Thunderbirds. All my mates at school watched. We played \"Thunderbirds\" before school, during lunch and after school. We all wanted to be Virgil or Scott. No one wanted to be Alan. Counting down from 5 became an art form. I took my children to see the movie hoping they would get a glimpse of what I loved as a child. How bitterly disappointing. The only high point was the snappy theme tune. Not that it could compare with the original score of the Thunderbirds. Thankfully early Saturday mornings one television channel still plays reruns of the series Gerry Anderson and his wife created. Jonatha Frakes should hand in his directors chair, his version was completely hopeless. A waste of film. Utter rubbish. A CGI remake may be acceptable but replacing marionettes with Homo sapiens subsp. sapiens was a huge error of judgment.'"
      ]
     },
     "execution_count": 6,
     "metadata": {},
     "output_type": "execute_result"
    }
   ],
   "source": [
    "review = df.iloc[0].text\n",
    "review"
   ]
  },
  {
   "cell_type": "code",
   "execution_count": 7,
   "id": "ce019885-02f6-43ba-a325-d40251713cad",
   "metadata": {},
   "outputs": [],
   "source": [
    "words = (review.lower().replace(',','').replace('.','').replace('\"','').replace(\"'\",'').replace('(','').replace(')','').split())"
   ]
  },
  {
   "cell_type": "code",
   "execution_count": 8,
   "id": "dc2ddb01-5cb2-4675-8cdc-223c76e0759f",
   "metadata": {},
   "outputs": [
    {
     "name": "stderr",
     "output_type": "stream",
     "text": [
      "[nltk_data] Downloading package stopwords to C:\\Users\\Michelle\n",
      "[nltk_data]     Zhou\\AppData\\Roaming\\nltk_data...\n",
      "[nltk_data]   Package stopwords is already up-to-date!\n",
      "[nltk_data] Downloading package punkt to C:\\Users\\Michelle\n",
      "[nltk_data]     Zhou\\AppData\\Roaming\\nltk_data...\n",
      "[nltk_data]   Package punkt is already up-to-date!\n",
      "[nltk_data] Downloading package wordnet to C:\\Users\\Michelle\n",
      "[nltk_data]     Zhou\\AppData\\Roaming\\nltk_data...\n",
      "[nltk_data]   Package wordnet is already up-to-date!\n"
     ]
    }
   ],
   "source": [
    "import nltk\n",
    "nltk.download('stopwords')\n",
    "nltk.download('punkt')\n",
    "nltk.download('wordnet')\n",
    "from nltk.stem import WordNetLemmatizer\n",
    "from nltk.corpus import stopwords\n",
    "from nltk.stem import PorterStemmer"
   ]
  },
  {
   "cell_type": "code",
   "execution_count": 9,
   "id": "f2ce8039-c621-4365-88bf-f34b64bfe922",
   "metadata": {},
   "outputs": [
    {
     "data": {
      "text/plain": [
       "'consequent'"
      ]
     },
     "execution_count": 9,
     "metadata": {},
     "output_type": "execute_result"
    }
   ],
   "source": [
    "stemmer = PorterStemmer()\n",
    "stemmer.stem(\"consequentalism\")"
   ]
  },
  {
   "cell_type": "code",
   "execution_count": 10,
   "id": "62ee90e5-cf4f-46c4-a162-a4ad2d852b3b",
   "metadata": {},
   "outputs": [],
   "source": [
    "stemmedWords = set([stemmer.stem(i) for i in words])"
   ]
  },
  {
   "cell_type": "code",
   "execution_count": 66,
   "id": "bff07926-97e0-4157-aa83-6c7d4a5da20c",
   "metadata": {},
   "outputs": [],
   "source": [
    "stop_words = set(stopwords.words('english'))"
   ]
  },
  {
   "cell_type": "code",
   "execution_count": 67,
   "id": "83d25991-bb3b-4815-a79a-769344de63a8",
   "metadata": {},
   "outputs": [],
   "source": [
    "def wordtime(i):\n",
    "    x = df.iloc[i].text\n",
    "    y = re.sub(\"\\W+|_\", \" \", x.lower()).split()\n",
    "    y = [w for w in y if not w in stop_words]\n",
    "    z = set([stemmer.stem(i) for i in y])\n",
    "    return list(z)"
   ]
  },
  {
   "cell_type": "code",
   "execution_count": 129,
   "id": "2490413b-4e42-463c-a3a4-e7f4d9bb6166",
   "metadata": {},
   "outputs": [],
   "source": [
    "wordlist = []\n",
    "for n in range(0,20000):\n",
    "    wordlist.append(list(set(wordtime(n))))"
   ]
  },
  {
   "cell_type": "code",
   "execution_count": 130,
   "id": "cbe66925-d78a-44a4-86df-20e030aa0064",
   "metadata": {},
   "outputs": [
    {
     "data": {
      "text/plain": [
       "20000"
      ]
     },
     "execution_count": 130,
     "metadata": {},
     "output_type": "execute_result"
    }
   ],
   "source": [
    "len(wordlist)"
   ]
  },
  {
   "cell_type": "code",
   "execution_count": 131,
   "id": "6fdd0184-5d93-44d5-95e6-1e3b3f69b6ae",
   "metadata": {},
   "outputs": [],
   "source": [
    "vocab = sorted(set([j for i in wordlist for j in i]))"
   ]
  },
  {
   "cell_type": "code",
   "execution_count": 132,
   "id": "42d58579-197b-45d6-94fc-3635cd9c20d7",
   "metadata": {},
   "outputs": [
    {
     "data": {
      "text/plain": [
       "47860"
      ]
     },
     "execution_count": 132,
     "metadata": {},
     "output_type": "execute_result"
    }
   ],
   "source": [
    "len(vocab)"
   ]
  },
  {
   "cell_type": "code",
   "execution_count": 133,
   "id": "b47306de-8d2c-404f-92eb-497676676b11",
   "metadata": {},
   "outputs": [],
   "source": [
    "num = {k: v for v, k in enumerate(vocab)}"
   ]
  },
  {
   "cell_type": "code",
   "execution_count": 134,
   "id": "63878084-5e3c-47c3-8efc-aa83dbee980f",
   "metadata": {},
   "outputs": [],
   "source": [
    "con = [[num[i] for i in w] for w in wordlist]"
   ]
  },
  {
   "cell_type": "code",
   "execution_count": 135,
   "id": "4f18841f-ebb3-4367-a1e6-d56fe10410cc",
   "metadata": {},
   "outputs": [
    {
     "data": {
      "text/plain": [
       "85"
      ]
     },
     "execution_count": 135,
     "metadata": {},
     "output_type": "execute_result"
    }
   ],
   "source": [
    "len(wordlist[2])"
   ]
  },
  {
   "cell_type": "code",
   "execution_count": 136,
   "id": "9b495593-7867-4709-8bc0-6156541f260c",
   "metadata": {},
   "outputs": [
    {
     "name": "stdout",
     "output_type": "stream",
     "text": [
      "531\n"
     ]
    }
   ],
   "source": [
    "long = []\n",
    "for r in wordlist:\n",
    "    long.append(len(r))\n",
    "print(max(long))"
   ]
  },
  {
   "cell_type": "code",
   "execution_count": 137,
   "id": "76921da9-d715-4229-8b33-b61e6d7ae5b1",
   "metadata": {},
   "outputs": [
    {
     "data": {
      "text/plain": [
       "95.01005"
      ]
     },
     "execution_count": 137,
     "metadata": {},
     "output_type": "execute_result"
    }
   ],
   "source": [
    "sum(long)/len(long)"
   ]
  },
  {
   "cell_type": "code",
   "execution_count": 138,
   "id": "83b744cc-1990-4559-9835-b73d7db16f55",
   "metadata": {},
   "outputs": [
    {
     "data": {
      "text/plain": [
       "(array([1.023e+03, 4.220e+03, 6.011e+03, 3.018e+03, 1.865e+03, 1.302e+03,\n",
       "        8.080e+02, 5.760e+02, 3.970e+02, 2.560e+02, 1.780e+02, 1.410e+02,\n",
       "        1.090e+02, 4.400e+01, 3.100e+01, 1.200e+01, 4.000e+00, 3.000e+00,\n",
       "        0.000e+00, 2.000e+00]),\n",
       " array([  3. ,  29.4,  55.8,  82.2, 108.6, 135. , 161.4, 187.8, 214.2,\n",
       "        240.6, 267. , 293.4, 319.8, 346.2, 372.6, 399. , 425.4, 451.8,\n",
       "        478.2, 504.6, 531. ]),\n",
       " <BarContainer object of 20 artists>)"
      ]
     },
     "execution_count": 138,
     "metadata": {},
     "output_type": "execute_result"
    },
    {
     "data": {
      "image/png": "[encoded data removed]",
      "text/plain": [
       "<Figure size 640x480 with 1 Axes>"
      ]
     },
     "metadata": {},
     "output_type": "display_data"
    }
   ],
   "source": [
    "import matplotlib.pyplot as plt\n",
    "plt.hist(long, bins=20)"
   ]
  },
  {
   "cell_type": "code",
   "execution_count": 139,
   "id": "685be639-d11d-4f5a-81ac-998890e27fd4",
   "metadata": {},
   "outputs": [],
   "source": [
    "x = [1,6,85,3,5,4,23]\n",
    "y = [8,9,3]"
   ]
  },
  {
   "cell_type": "code",
   "execution_count": 140,
   "id": "e80eaa65-b261-4f4b-b05a-35f0365bb5ca",
   "metadata": {},
   "outputs": [
    {
     "data": {
      "text/plain": [
       "[1, 6, 85, 3, 5]"
      ]
     },
     "execution_count": 140,
     "metadata": {},
     "output_type": "execute_result"
    }
   ],
   "source": [
    "x[:5]"
   ]
  },
  {
   "cell_type": "code",
   "execution_count": 141,
   "id": "b392e549-0948-4d77-899b-f90390e74286",
   "metadata": {},
   "outputs": [],
   "source": [
    "while len(y) < 5:\n",
    "    y = y + [-1]"
   ]
  },
  {
   "cell_type": "code",
   "execution_count": 154,
   "id": "11d7d1fb-de0f-4f7e-ad80-d768cca94e16",
   "metadata": {},
   "outputs": [],
   "source": [
    "def samelength(a):\n",
    "    if len(a) > 100:\n",
    "        a = a[:100]\n",
    "    elif len(a) < 100:\n",
    "        while len(a) < 100:\n",
    "            a = a + [-1]\n",
    "    else:\n",
    "        pass\n",
    "    return a"
   ]
  },
  {
   "cell_type": "code",
   "execution_count": 155,
   "id": "2a38f391-834e-4edc-b42c-a591dd65e0b4",
   "metadata": {},
   "outputs": [],
   "source": [
    "con2 = []\n",
    "for C in con:\n",
    "    con2.append(samelength(C))"
   ]
  },
  {
   "cell_type": "code",
   "execution_count": 156,
   "id": "49b7f628-0d1c-4913-85e4-0cd3a80409e7",
   "metadata": {},
   "outputs": [
    {
     "data": {
      "text/plain": [
       "{100}"
      ]
     },
     "execution_count": 156,
     "metadata": {},
     "output_type": "execute_result"
    }
   ],
   "source": [
    "set([len(i) for i in con2])"
   ]
  },
  {
   "cell_type": "code",
   "execution_count": 157,
   "id": "6574319b-6f50-4cad-997c-efe24345345e",
   "metadata": {},
   "outputs": [],
   "source": [
    "import sklearn"
   ]
  },
  {
   "cell_type": "code",
   "execution_count": 158,
   "id": "55246a73-01ea-4e70-babf-93d970ef2bb0",
   "metadata": {},
   "outputs": [],
   "source": [
    "import numpy as np\n",
    "from sklearn.model_selection import train_test_split"
   ]
  },
  {
   "cell_type": "code",
   "execution_count": 168,
   "id": "9f371d15-c3fe-4382-bf6c-35c0e72e5f0f",
   "metadata": {},
   "outputs": [],
   "source": [
    "# X = input, matrix\n",
    "# y = output, target, lowercase bc it is a vector (??)\n",
    "X = con2\n",
    "y = df[\"label\"][:20000].values"
   ]
  },
  {
   "cell_type": "code",
   "execution_count": null,
   "id": "0f5a938d-2e3a-4fc9-a4a5-9261a5883f13",
   "metadata": {},
   "outputs": [],
   "source": [
    "X = [X[i] + [long[i]] for i in range(len(X))] #length as part of ana"
   ]
  },
  {
   "cell_type": "code",
   "execution_count": 182,
   "id": "b674339d-5c7a-4f65-a727-a27a3b04761a",
   "metadata": {},
   "outputs": [],
   "source": [
    "X = [nlp(word).vector for word in df['text'][:20000]] #word embeddings"
   ]
  },
  {
   "cell_type": "code",
   "execution_count": 183,
   "id": "c0ad6855-ccff-4d07-8b61-92bbdf2e48d0",
   "metadata": {},
   "outputs": [],
   "source": [
    "X_train, X_test, y_train, y_test = train_test_split(\n",
    "    X, y, test_size=0.2, random_state=42)"
   ]
  },
  {
   "cell_type": "code",
   "execution_count": 184,
   "id": "4c34488c-5e83-423b-84e5-3fc16403cb06",
   "metadata": {},
   "outputs": [],
   "source": [
    "from sklearn.tree import DecisionTreeClassifier\n",
    "from sklearn.ensemble import RandomForestClassifier, AdaBoostClassifier\n",
    "from sklearn.model_selection import cross_val_score"
   ]
  },
  {
   "cell_type": "code",
   "execution_count": 185,
   "id": "e74e5c0c-727f-4182-b492-c094a718fd54",
   "metadata": {},
   "outputs": [],
   "source": [
    "clf = RandomForestClassifier(random_state=0)"
   ]
  },
  {
   "cell_type": "code",
   "execution_count": 186,
   "id": "a78518dc-cc9f-4537-8d50-eddc6a19cbf6",
   "metadata": {},
   "outputs": [
    {
     "data": {
      "text/html": [
       "<style>#sk-container-id-10 {color: black;background-color: white;}#sk-container-id-10 pre{padding: 0;}#sk-container-id-10 div.sk-toggleable {background-color: white;}#sk-container-id-10 label.sk-toggleable__label {cursor: pointer;display: block;width: 100%;margin-bottom: 0;padding: 0.3em;box-sizing: border-box;text-align: center;}#sk-container-id-10 label.sk-toggleable__label-arrow:before {content: \"▸\";float: left;margin-right: 0.25em;color: #696969;}#sk-container-id-10 label.sk-toggleable__label-arrow:hover:before {color: black;}#sk-container-id-10 div.sk-estimator:hover label.sk-toggleable__label-arrow:before {color: black;}#sk-container-id-10 div.sk-toggleable__content {max-height: 0;max-width: 0;overflow: hidden;text-align: left;background-color: #f0f8ff;}#sk-container-id-10 div.sk-toggleable__content pre {margin: 0.2em;color: black;border-radius: 0.25em;background-color: #f0f8ff;}#sk-container-id-10 input.sk-toggleable__control:checked~div.sk-toggleable__content {max-height: 200px;max-width: 100%;overflow: auto;}#sk-container-id-10 input.sk-toggleable__control:checked~label.sk-toggleable__label-arrow:before {content: \"▾\";}#sk-container-id-10 div.sk-estimator input.sk-toggleable__control:checked~label.sk-toggleable__label {background-color: #d4ebff;}#sk-container-id-10 div.sk-label input.sk-toggleable__control:checked~label.sk-toggleable__label {background-color: #d4ebff;}#sk-container-id-10 input.sk-hidden--visually {border: 0;clip: rect(1px 1px 1px 1px);clip: rect(1px, 1px, 1px, 1px);height: 1px;margin: -1px;overflow: hidden;padding: 0;position: absolute;width: 1px;}#sk-container-id-10 div.sk-estimator {font-family: monospace;background-color: #f0f8ff;border: 1px dotted black;border-radius: 0.25em;box-sizing: border-box;margin-bottom: 0.5em;}#sk-container-id-10 div.sk-estimator:hover {background-color: #d4ebff;}#sk-container-id-10 div.sk-parallel-item::after {content: \"\";width: 100%;border-bottom: 1px solid gray;flex-grow: 1;}#sk-container-id-10 div.sk-label:hover label.sk-toggleable__label {background-color: #d4ebff;}#sk-container-id-10 div.sk-serial::before {content: \"\";position: absolute;border-left: 1px solid gray;box-sizing: border-box;top: 0;bottom: 0;left: 50%;z-index: 0;}#sk-container-id-10 div.sk-serial {display: flex;flex-direction: column;align-items: center;background-color: white;padding-right: 0.2em;padding-left: 0.2em;position: relative;}#sk-container-id-10 div.sk-item {position: relative;z-index: 1;}#sk-container-id-10 div.sk-parallel {display: flex;align-items: stretch;justify-content: center;background-color: white;position: relative;}#sk-container-id-10 div.sk-item::before, #sk-container-id-10 div.sk-parallel-item::before {content: \"\";position: absolute;border-left: 1px solid gray;box-sizing: border-box;top: 0;bottom: 0;left: 50%;z-index: -1;}#sk-container-id-10 div.sk-parallel-item {display: flex;flex-direction: column;z-index: 1;position: relative;background-color: white;}#sk-container-id-10 div.sk-parallel-item:first-child::after {align-self: flex-end;width: 50%;}#sk-container-id-10 div.sk-parallel-item:last-child::after {align-self: flex-start;width: 50%;}#sk-container-id-10 div.sk-parallel-item:only-child::after {width: 0;}#sk-container-id-10 div.sk-dashed-wrapped {border: 1px dashed gray;margin: 0 0.4em 0.5em 0.4em;box-sizing: border-box;padding-bottom: 0.4em;background-color: white;}#sk-container-id-10 div.sk-label label {font-family: monospace;font-weight: bold;display: inline-block;line-height: 1.2em;}#sk-container-id-10 div.sk-label-container {text-align: center;}#sk-container-id-10 div.sk-container {/* jupyter's `normalize.less` sets `[hidden] { display: none; }` but bootstrap.min.css set `[hidden] { display: none !important; }` so we also need the `!important` here to be able to override the default hidden behavior on the sphinx rendered scikit-learn.org. See: https://github.com/scikit-learn/scikit-learn/issues/21755 */display: inline-block !important;position: relative;}#sk-container-id-10 div.sk-text-repr-fallback {display: none;}</style><div id=\"sk-container-id-10\" class=\"sk-top-container\"><div class=\"sk-text-repr-fallback\"><pre>RandomForestClassifier(random_state=0)</pre><b>In a Jupyter environment, please rerun this cell to show the HTML representation or trust the notebook. <br />On GitHub, the HTML representation is unable to render, please try loading this page with nbviewer.org.</b></div><div class=\"sk-container\" hidden><div class=\"sk-item\"><div class=\"sk-estimator sk-toggleable\"><input class=\"sk-toggleable__control sk-hidden--visually\" id=\"sk-estimator-id-10\" type=\"checkbox\" checked><label for=\"sk-estimator-id-10\" class=\"sk-toggleable__label sk-toggleable__label-arrow\">RandomForestClassifier</label><div class=\"sk-toggleable__content\"><pre>RandomForestClassifier(random_state=0)</pre></div></div></div></div></div>"
      ],
      "text/plain": [
       "RandomForestClassifier(random_state=0)"
      ]
     },
     "execution_count": 186,
     "metadata": {},
     "output_type": "execute_result"
    }
   ],
   "source": [
    "clf.fit(X_train, y_train)"
   ]
  },
  {
   "cell_type": "code",
   "execution_count": 187,
   "id": "3cde4d81-8f7a-4883-8d6f-d5f9fcae88e0",
   "metadata": {},
   "outputs": [
    {
     "data": {
      "text/plain": [
       "0.73725"
      ]
     },
     "execution_count": 187,
     "metadata": {},
     "output_type": "execute_result"
    }
   ],
   "source": [
    "clf.score(X_test, y_test) #try diff classifiers"
   ]
  },
  {
   "cell_type": "code",
   "execution_count": 188,
   "id": "985d0223-132d-4d74-8408-c11ec6e76ff0",
   "metadata": {},
   "outputs": [
    {
     "data": {
      "text/plain": [
       "(20000, 20000)"
      ]
     },
     "execution_count": 188,
     "metadata": {},
     "output_type": "execute_result"
    }
   ],
   "source": [
    "len(X), len(long)"
   ]
  },
  {
   "cell_type": "code",
   "execution_count": 189,
   "id": "77118bc0-6ab7-4655-b22d-cbc66a9ac54c",
   "metadata": {},
   "outputs": [],
   "source": [
    "import spacy"
   ]
  },
  {
   "cell_type": "code",
   "execution_count": 190,
   "id": "92cc955a-a721-40af-b91d-01d0e3c0dbb1",
   "metadata": {},
   "outputs": [],
   "source": [
    "nlp = spacy.load(\"en_core_web_md\")"
   ]
  },
  {
   "cell_type": "code",
   "execution_count": null,
   "id": "30668374-14c0-4b41-86d6-746e89296a3c",
   "metadata": {},
   "outputs": [],
   "source": []
  },
  {
   "cell_type": "code",
   "execution_count": null,
   "id": "58ac69bb-d144-475e-8ce1-dbfe688c8973",
   "metadata": {},
   "outputs": [],
   "source": []
  }
 ],
 "metadata": {
  "kernelspec": {
   "display_name": "Python 3 (ipykernel)",
   "language": "python",
   "name": "python3"
  },
  "language_info": {
   "codemirror_mode": {
    "name": "ipython",
    "version": 3
   },
   "file_extension": ".py",
   "mimetype": "text/x-python",
   "name": "python",
   "nbconvert_exporter": "python",
   "pygments_lexer": "ipython3",
   "version": "3.10.7"
  }
 },
 "nbformat": 4,
 "nbformat_minor": 5
}
